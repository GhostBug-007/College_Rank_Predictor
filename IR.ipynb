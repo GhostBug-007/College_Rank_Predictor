{
  "nbformat": 4,
  "nbformat_minor": 0,
  "metadata": {
    "kernelspec": {
      "display_name": "Python 3",
      "language": "python",
      "name": "python3"
    },
    "language_info": {
      "codemirror_mode": {
        "name": "ipython",
        "version": 3
      },
      "file_extension": ".py",
      "mimetype": "text/x-python",
      "name": "python",
      "nbconvert_exporter": "python",
      "pygments_lexer": "ipython3",
      "version": "3.7.1"
    },
    "colab": {
      "name": "IR.ipynb",
      "provenance": [],
      "include_colab_link": true
    }
  },
  "cells": [
    {
      "cell_type": "markdown",
      "metadata": {
        "id": "view-in-github",
        "colab_type": "text"
      },
      "source": [
        "<a href=\"https://colab.research.google.com/github/GhostBug-007/College_Rank_Predictor/blob/master/IR.ipynb\" target=\"_parent\"><img src=\"https://colab.research.google.com/assets/colab-badge.svg\" alt=\"Open In Colab\"/></a>"
      ]
    },
    {
      "cell_type": "code",
      "metadata": {
        "id": "bn8Zgpptd0zq",
        "colab_type": "code",
        "colab": {}
      },
      "source": [
        "import bs4 as bs\n",
        "import nltk\n",
        "import urllib.request\n",
        "import re\n",
        "import pandas as pd"
      ],
      "execution_count": 0,
      "outputs": []
    },
    {
      "cell_type": "code",
      "metadata": {
        "id": "JLG-PHrFd0z1",
        "colab_type": "code",
        "colab": {}
      },
      "source": [
        "univ_global = []\n",
        "rating_global = [] \n",
        "start = 23\n"
      ],
      "execution_count": 0,
      "outputs": []
    },
    {
      "cell_type": "code",
      "metadata": {
        "id": "Dw5zzPNFd0z8",
        "colab_type": "code",
        "outputId": "59eb73eb-cec2-4d7f-ba94-431dc4ef7c26",
        "colab": {
          "base_uri": "https://localhost:8080/",
          "height": 85
        }
      },
      "source": [
        "n = 20            # n is the number of pages you wanna scrape, 1 < n < 370\n",
        "for i in range(1,n,1):\n",
        "    print(i)\n",
        "    arr = []\n",
        "    univ_orig = []\n",
        "    rating_orig = []\n",
        "    arr5 = []\n",
        "    page = 'https://atcoder.jp/ranking?page='\n",
        "    scraped_data = urllib.request.urlopen(page+str(i))  \n",
        "    article =scraped_data.read()\n",
        "    parsed_article = bs.BeautifulSoup(article,'html.parser')\n",
        "    paragraphs = parsed_article.find_all(\"span\", {\"class\": \"ranking-affiliation break-all\"})\n",
        "    for each in paragraphs:\n",
        "        arr.append(str(each.get_text()))\n",
        "    for a in arr:\n",
        "        if a == '' or a == ' ':\n",
        "            continue\n",
        "        else:\n",
        "            univ_orig.append(a)\n",
        "    univ_global.extend(univ_orig)\n",
        "    parsed_article1 = bs.BeautifulSoup(article,'html.parser')\n",
        "    paragraphs1 = parsed_article.find_all(\"td\")\n",
        "    univ = -1\n",
        "\n",
        "    for rating in range(start,len(paragraphs1),7):\n",
        "        univ = univ + 1\n",
        "        if arr[univ] == '' or arr[univ] == ' ':\n",
        "            continue\n",
        "        arr5.append(paragraphs1[rating])\n",
        "    for each in arr5:\n",
        "        inp = str(each.get_text())\n",
        "        rating_orig.append(int(inp))\n",
        "    rating_global.extend(rating_orig)\n"
      ],
      "execution_count": 0,
      "outputs": [
        {
          "output_type": "stream",
          "text": [
            "1\n",
            "2\n",
            "3\n",
            "4\n"
          ],
          "name": "stdout"
        }
      ]
    },
    {
      "cell_type": "code",
      "metadata": {
        "id": "zN8LOySud00E",
        "colab_type": "code",
        "colab": {}
      },
      "source": [
        "# # parsed_article = bs.BeautifulSoup(article,'html.parser')\n",
        "# # paragraphs = parsed_article.find_all(\"span\", {\"class\": \"ranking-affiliation break-all\"})\n",
        "\n",
        "# # for each in arr5:\n",
        "# #     inp = str(each.get_text())\n",
        "# #     rating_orig.append(int(inp))\n",
        "\n",
        "# len(rating_global)"
      ],
      "execution_count": 0,
      "outputs": []
    },
    {
      "cell_type": "code",
      "metadata": {
        "id": "xu0UDw9Ed00L",
        "colab_type": "code",
        "colab": {}
      },
      "source": [
        "# parsed_article1 = bs.BeautifulSoup(article,'html.parser')\n",
        "# paragraphs1 = parsed_article.find_all(\"td\")\n"
      ],
      "execution_count": 0,
      "outputs": []
    },
    {
      "cell_type": "code",
      "metadata": {
        "id": "FGIWjpHKd00R",
        "colab_type": "code",
        "colab": {}
      },
      "source": [
        "# for each in paragraphs:\n",
        "# #     print(str(each.get_text()))\n",
        "#     arr.append(str(each.get_text()))"
      ],
      "execution_count": 0,
      "outputs": []
    },
    {
      "cell_type": "code",
      "metadata": {
        "id": "MosNIeyid00Y",
        "colab_type": "code",
        "colab": {}
      },
      "source": [
        "# for a in arr:\n",
        "#     if a == '' or a == ' ':\n",
        "#         continue\n",
        "#     else:\n",
        "#         univ_orig.append(a)"
      ],
      "execution_count": 0,
      "outputs": []
    },
    {
      "cell_type": "code",
      "metadata": {
        "id": "a2_9sNexd00f",
        "colab_type": "code",
        "colab": {}
      },
      "source": [
        "# #print(univ_orig)\n",
        "# univ_orig"
      ],
      "execution_count": 0,
      "outputs": []
    },
    {
      "cell_type": "code",
      "metadata": {
        "id": "leOr9pT_d00m",
        "colab_type": "code",
        "colab": {}
      },
      "source": [
        "# type(paragraphs1)\n",
        "# start = 23\n",
        "# arr5 = []\n",
        "# len(arr)"
      ],
      "execution_count": 0,
      "outputs": []
    },
    {
      "cell_type": "code",
      "metadata": {
        "id": "T3qwF8wyd00s",
        "colab_type": "code",
        "colab": {}
      },
      "source": [
        "# # rating = 2\n",
        "# univ = -1\n",
        "\n",
        "# # print(paragraphs1[23])\n",
        "# length = len(paragraphs1)\n",
        "# for rating in range(start,len(paragraphs1),7):\n",
        "# #     print(univ)\n",
        "#     univ = univ + 1\n",
        "#     if(univ == len(arr)):\n",
        "#         break\n",
        "#     if arr[univ] == '' or arr[univ] == ' ':\n",
        "#         continue\n",
        "#     arr5.append(paragraphs1[rating])\n",
        "# #     print(rating,paragraphs1[rating],arr[univ])\n",
        "# print(arr5)"
      ],
      "execution_count": 0,
      "outputs": []
    },
    {
      "cell_type": "code",
      "metadata": {
        "id": "Kv09GEx-d00y",
        "colab_type": "code",
        "colab": {}
      },
      "source": [
        "# rating_orig = []\n",
        "# for each in arr5:\n",
        "#  #   print(str(each.get_text()))\n",
        "#     inp = str(each.get_text())\n",
        "#     rating_orig.append(int(inp))\n"
      ],
      "execution_count": 0,
      "outputs": []
    },
    {
      "cell_type": "code",
      "metadata": {
        "id": "ad_Z-gtPd00-",
        "colab_type": "code",
        "colab": {}
      },
      "source": [
        "univ_rating = []"
      ],
      "execution_count": 0,
      "outputs": []
    },
    {
      "cell_type": "code",
      "metadata": {
        "id": "3aY6tLa1d01D",
        "colab_type": "code",
        "colab": {}
      },
      "source": [
        "for i in range(len(univ_global)):\n",
        "    univ_rating.append([univ_global[i],rating_global[i]])"
      ],
      "execution_count": 0,
      "outputs": []
    },
    {
      "cell_type": "code",
      "metadata": {
        "id": "yvcwE0esd01K",
        "colab_type": "code",
        "colab": {}
      },
      "source": [
        "df1 = pd.DataFrame(univ_rating, columns = ['University', 'Ratings'])"
      ],
      "execution_count": 0,
      "outputs": []
    },
    {
      "cell_type": "code",
      "metadata": {
        "id": "zcYE9Z6zd01P",
        "colab_type": "code",
        "outputId": "bda111c9-1c14-41e6-bcd4-6e67a3a12429",
        "colab": {
          "base_uri": "https://localhost:8080/",
          "height": 419
        }
      },
      "source": [
        "df1"
      ],
      "execution_count": 0,
      "outputs": [
        {
          "output_type": "execute_result",
          "data": {
            "text/html": [
              "<div>\n",
              "<style scoped>\n",
              "    .dataframe tbody tr th:only-of-type {\n",
              "        vertical-align: middle;\n",
              "    }\n",
              "\n",
              "    .dataframe tbody tr th {\n",
              "        vertical-align: top;\n",
              "    }\n",
              "\n",
              "    .dataframe thead th {\n",
              "        text-align: right;\n",
              "    }\n",
              "</style>\n",
              "<table border=\"1\" class=\"dataframe\">\n",
              "  <thead>\n",
              "    <tr style=\"text-align: right;\">\n",
              "      <th></th>\n",
              "      <th>University</th>\n",
              "      <th>Ratings</th>\n",
              "    </tr>\n",
              "  </thead>\n",
              "  <tbody>\n",
              "    <tr>\n",
              "      <th>0</th>\n",
              "      <td>ITMO University</td>\n",
              "      <td>4111</td>\n",
              "    </tr>\n",
              "    <tr>\n",
              "      <th>1</th>\n",
              "      <td>NNSU</td>\n",
              "      <td>3775</td>\n",
              "    </tr>\n",
              "    <tr>\n",
              "      <th>2</th>\n",
              "      <td>Massachusetts Institute of Technology</td>\n",
              "      <td>3736</td>\n",
              "    </tr>\n",
              "    <tr>\n",
              "      <th>3</th>\n",
              "      <td>Moscow SU</td>\n",
              "      <td>3673</td>\n",
              "    </tr>\n",
              "    <tr>\n",
              "      <th>4</th>\n",
              "      <td>The University of Tokyo</td>\n",
              "      <td>3614</td>\n",
              "    </tr>\n",
              "    <tr>\n",
              "      <th>...</th>\n",
              "      <td>...</td>\n",
              "      <td>...</td>\n",
              "    </tr>\n",
              "    <tr>\n",
              "      <th>219</th>\n",
              "      <td>Hangzhou No.2 High School</td>\n",
              "      <td>2387</td>\n",
              "    </tr>\n",
              "    <tr>\n",
              "      <th>220</th>\n",
              "      <td>??</td>\n",
              "      <td>2386</td>\n",
              "    </tr>\n",
              "    <tr>\n",
              "      <th>221</th>\n",
              "      <td>indeed, inc.</td>\n",
              "      <td>2385</td>\n",
              "    </tr>\n",
              "    <tr>\n",
              "      <th>222</th>\n",
              "      <td>ICHB</td>\n",
              "      <td>2385</td>\n",
              "    </tr>\n",
              "    <tr>\n",
              "      <th>223</th>\n",
              "      <td>Yali Middle School</td>\n",
              "      <td>2384</td>\n",
              "    </tr>\n",
              "  </tbody>\n",
              "</table>\n",
              "<p>224 rows × 2 columns</p>\n",
              "</div>"
            ],
            "text/plain": [
              "                                University  Ratings\n",
              "0                          ITMO University     4111\n",
              "1                                     NNSU     3775\n",
              "2    Massachusetts Institute of Technology     3736\n",
              "3                                Moscow SU     3673\n",
              "4                  The University of Tokyo     3614\n",
              "..                                     ...      ...\n",
              "219              Hangzhou No.2 High School     2387\n",
              "220                                     ??     2386\n",
              "221                           indeed, inc.     2385\n",
              "222                                   ICHB     2385\n",
              "223                     Yali Middle School     2384\n",
              "\n",
              "[224 rows x 2 columns]"
            ]
          },
          "metadata": {
            "tags": []
          },
          "execution_count": 18
        }
      ]
    },
    {
      "cell_type": "code",
      "metadata": {
        "id": "QI29IZW2d01V",
        "colab_type": "code",
        "colab": {}
      },
      "source": [
        "sum_of_rating = []\n",
        "count_univ = []\n",
        "for i in univ_global:\n",
        "    inp = str(i)\n",
        "    sum_of_rating.append(df1[df1['University'] == i]['Ratings'].mean())\n",
        "    count_univ.append(df1[df1['University'] == i]['University'].count())\n"
      ],
      "execution_count": 0,
      "outputs": []
    },
    {
      "cell_type": "code",
      "metadata": {
        "id": "5QKogYR2d01d",
        "colab_type": "code",
        "colab": {}
      },
      "source": [
        "univ_rating_count = []\n",
        "for i in range(len(univ_global)):\n",
        "    univ_rating_count.append([univ_global[i],sum_of_rating[i],count_univ[i]])"
      ],
      "execution_count": 0,
      "outputs": []
    },
    {
      "cell_type": "code",
      "metadata": {
        "id": "q8wMa_RDd01j",
        "colab_type": "code",
        "colab": {}
      },
      "source": [
        "df = pd.DataFrame(univ_rating_count, columns = ['University', 'Ratings','Count'])"
      ],
      "execution_count": 0,
      "outputs": []
    },
    {
      "cell_type": "code",
      "metadata": {
        "id": "JzfuPsRed01p",
        "colab_type": "code",
        "outputId": "7daadb78-0406-483e-cf36-2354823978ed",
        "colab": {
          "base_uri": "https://localhost:8080/",
          "height": 419
        }
      },
      "source": [
        "df"
      ],
      "execution_count": 0,
      "outputs": [
        {
          "output_type": "execute_result",
          "data": {
            "text/html": [
              "<div>\n",
              "<style scoped>\n",
              "    .dataframe tbody tr th:only-of-type {\n",
              "        vertical-align: middle;\n",
              "    }\n",
              "\n",
              "    .dataframe tbody tr th {\n",
              "        vertical-align: top;\n",
              "    }\n",
              "\n",
              "    .dataframe thead th {\n",
              "        text-align: right;\n",
              "    }\n",
              "</style>\n",
              "<table border=\"1\" class=\"dataframe\">\n",
              "  <thead>\n",
              "    <tr style=\"text-align: right;\">\n",
              "      <th></th>\n",
              "      <th>University</th>\n",
              "      <th>Ratings</th>\n",
              "      <th>Count</th>\n",
              "    </tr>\n",
              "  </thead>\n",
              "  <tbody>\n",
              "    <tr>\n",
              "      <th>0</th>\n",
              "      <td>ITMO University</td>\n",
              "      <td>3129.111111</td>\n",
              "      <td>9</td>\n",
              "    </tr>\n",
              "    <tr>\n",
              "      <th>1</th>\n",
              "      <td>NNSU</td>\n",
              "      <td>3775.000000</td>\n",
              "      <td>1</td>\n",
              "    </tr>\n",
              "    <tr>\n",
              "      <th>2</th>\n",
              "      <td>Massachusetts Institute of Technology</td>\n",
              "      <td>3440.500000</td>\n",
              "      <td>2</td>\n",
              "    </tr>\n",
              "    <tr>\n",
              "      <th>3</th>\n",
              "      <td>Moscow SU</td>\n",
              "      <td>3673.000000</td>\n",
              "      <td>1</td>\n",
              "    </tr>\n",
              "    <tr>\n",
              "      <th>4</th>\n",
              "      <td>The University of Tokyo</td>\n",
              "      <td>2841.133333</td>\n",
              "      <td>15</td>\n",
              "    </tr>\n",
              "    <tr>\n",
              "      <th>...</th>\n",
              "      <td>...</td>\n",
              "      <td>...</td>\n",
              "      <td>...</td>\n",
              "    </tr>\n",
              "    <tr>\n",
              "      <th>219</th>\n",
              "      <td>Hangzhou No.2 High School</td>\n",
              "      <td>2387.000000</td>\n",
              "      <td>1</td>\n",
              "    </tr>\n",
              "    <tr>\n",
              "      <th>220</th>\n",
              "      <td>??</td>\n",
              "      <td>2386.000000</td>\n",
              "      <td>1</td>\n",
              "    </tr>\n",
              "    <tr>\n",
              "      <th>221</th>\n",
              "      <td>indeed, inc.</td>\n",
              "      <td>2385.000000</td>\n",
              "      <td>1</td>\n",
              "    </tr>\n",
              "    <tr>\n",
              "      <th>222</th>\n",
              "      <td>ICHB</td>\n",
              "      <td>2385.000000</td>\n",
              "      <td>1</td>\n",
              "    </tr>\n",
              "    <tr>\n",
              "      <th>223</th>\n",
              "      <td>Yali Middle School</td>\n",
              "      <td>2501.750000</td>\n",
              "      <td>4</td>\n",
              "    </tr>\n",
              "  </tbody>\n",
              "</table>\n",
              "<p>224 rows × 3 columns</p>\n",
              "</div>"
            ],
            "text/plain": [
              "                                University      Ratings  Count\n",
              "0                          ITMO University  3129.111111      9\n",
              "1                                     NNSU  3775.000000      1\n",
              "2    Massachusetts Institute of Technology  3440.500000      2\n",
              "3                                Moscow SU  3673.000000      1\n",
              "4                  The University of Tokyo  2841.133333     15\n",
              "..                                     ...          ...    ...\n",
              "219              Hangzhou No.2 High School  2387.000000      1\n",
              "220                                     ??  2386.000000      1\n",
              "221                           indeed, inc.  2385.000000      1\n",
              "222                                   ICHB  2385.000000      1\n",
              "223                     Yali Middle School  2501.750000      4\n",
              "\n",
              "[224 rows x 3 columns]"
            ]
          },
          "metadata": {
            "tags": []
          },
          "execution_count": 22
        }
      ]
    },
    {
      "cell_type": "code",
      "metadata": {
        "id": "Qt5X8pW-d01w",
        "colab_type": "code",
        "colab": {}
      },
      "source": [
        "df.drop_duplicates(subset =\"University\",keep = False, inplace = True) "
      ],
      "execution_count": 0,
      "outputs": []
    },
    {
      "cell_type": "code",
      "metadata": {
        "id": "5WQcmctGd015",
        "colab_type": "code",
        "outputId": "aaef7bf4-e5bd-4a06-d100-42a129bf5e4c",
        "colab": {
          "base_uri": "https://localhost:8080/",
          "height": 391
        }
      },
      "source": [
        "print(\"1. Colleges with n highest rating\")\n",
        "print(\"2. Colleges with n lowest rating\")\n",
        "print(\"\\n\")\n",
        "inp1 = input(\"Enter your choice : \")\n",
        "inp1 = int(inp1)\n",
        "if inp1 == 1:\n",
        "    inp = input(\"Enter value of n = \")\n",
        "    n = int(inp)\n",
        "    print(\"\\n\")\n",
        "    print(df.nlargest(n,'Ratings'))\n",
        "elif inp1 == 2:\n",
        "    inp = input(\"Enter value of n = \")\n",
        "    n = int(inp)\n",
        "    print(\"\\n\")\n",
        "    print(df.nsmallest(n,'Ratings'))\n",
        "else:\n",
        "    print(\"Wrong choice\")"
      ],
      "execution_count": 0,
      "outputs": [
        {
          "output_type": "stream",
          "text": [
            "1. Colleges with n highest rating\n",
            "2. Colleges with n lowest rating\n",
            "\n",
            "\n",
            "Enter your choice : 1\n",
            "Enter value of n = 13\n",
            "\n",
            "\n",
            "                  University  Ratings  Count\n",
            "1                       NNSU   3775.0      1\n",
            "3                  Moscow SU   3673.0      1\n",
            "5   Preferred Networks, Inc.   3485.0      1\n",
            "8   Chengdu No.7 High School   3406.0      1\n",
            "10              AtCoder Inc.   3383.0      1\n",
            "13           Devexperts GmbH   3351.0      1\n",
            "22        Harvard University   3224.0      1\n",
            "25                    vk.com   3186.0      1\n",
            "29                   Ural FU   3141.0      1\n",
            "31              Rabbit House   3135.0      1\n",
            "34             whiteCryption   3088.0      1\n",
            "35                  Factorio   3077.0      1\n",
            "40          AtCoder Inc. CEO   3056.0      1\n"
          ],
          "name": "stdout"
        }
      ]
    },
    {
      "cell_type": "code",
      "metadata": {
        "id": "foTdM1Pld02D",
        "colab_type": "code",
        "colab": {}
      },
      "source": [
        ""
      ],
      "execution_count": 0,
      "outputs": []
    }
  ]
}